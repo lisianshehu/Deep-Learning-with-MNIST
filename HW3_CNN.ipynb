{
  "nbformat": 4,
  "nbformat_minor": 0,
  "metadata": {
    "colab": {
      "name": "HW3-CNN.ipynb",
      "provenance": [],
      "collapsed_sections": []
    },
    "kernelspec": {
      "name": "python3",
      "display_name": "Python 3"
    },
    "accelerator": "GPU"
  },
  "cells": [
    {
      "cell_type": "markdown",
      "metadata": {
        "id": "43hDJO8EiGJj"
      },
      "source": [
        "# Deep Learning Architectures on MNIST Dataset "
      ]
    },
    {
      "cell_type": "code",
      "metadata": {
        "id": "7Ync9lE_iEVB",
        "outputId": "b98f3015-6c3a-489c-b67c-ad24a8e28395",
        "colab": {
          "base_uri": "https://localhost:8080/"
        }
      },
      "source": [
        "!pip install tensorflow\n",
        "!pip install keras"
      ],
      "execution_count": null,
      "outputs": [
        {
          "output_type": "stream",
          "text": [
            "Requirement already satisfied: tensorflow in /usr/local/lib/python3.6/dist-packages (2.3.0)\n",
            "Requirement already satisfied: opt-einsum>=2.3.2 in /usr/local/lib/python3.6/dist-packages (from tensorflow) (3.3.0)\n",
            "Requirement already satisfied: wheel>=0.26 in /usr/local/lib/python3.6/dist-packages (from tensorflow) (0.35.1)\n",
            "Requirement already satisfied: keras-preprocessing<1.2,>=1.1.1 in /usr/local/lib/python3.6/dist-packages (from tensorflow) (1.1.2)\n",
            "Requirement already satisfied: six>=1.12.0 in /usr/local/lib/python3.6/dist-packages (from tensorflow) (1.15.0)\n",
            "Requirement already satisfied: protobuf>=3.9.2 in /usr/local/lib/python3.6/dist-packages (from tensorflow) (3.12.4)\n",
            "Requirement already satisfied: scipy==1.4.1 in /usr/local/lib/python3.6/dist-packages (from tensorflow) (1.4.1)\n",
            "Requirement already satisfied: absl-py>=0.7.0 in /usr/local/lib/python3.6/dist-packages (from tensorflow) (0.10.0)\n",
            "Requirement already satisfied: grpcio>=1.8.6 in /usr/local/lib/python3.6/dist-packages (from tensorflow) (1.33.2)\n",
            "Requirement already satisfied: tensorboard<3,>=2.3.0 in /usr/local/lib/python3.6/dist-packages (from tensorflow) (2.3.0)\n",
            "Requirement already satisfied: gast==0.3.3 in /usr/local/lib/python3.6/dist-packages (from tensorflow) (0.3.3)\n",
            "Requirement already satisfied: termcolor>=1.1.0 in /usr/local/lib/python3.6/dist-packages (from tensorflow) (1.1.0)\n",
            "Requirement already satisfied: h5py<2.11.0,>=2.10.0 in /usr/local/lib/python3.6/dist-packages (from tensorflow) (2.10.0)\n",
            "Requirement already satisfied: numpy<1.19.0,>=1.16.0 in /usr/local/lib/python3.6/dist-packages (from tensorflow) (1.18.5)\n",
            "Requirement already satisfied: google-pasta>=0.1.8 in /usr/local/lib/python3.6/dist-packages (from tensorflow) (0.2.0)\n",
            "Requirement already satisfied: tensorflow-estimator<2.4.0,>=2.3.0 in /usr/local/lib/python3.6/dist-packages (from tensorflow) (2.3.0)\n",
            "Requirement already satisfied: astunparse==1.6.3 in /usr/local/lib/python3.6/dist-packages (from tensorflow) (1.6.3)\n",
            "Requirement already satisfied: wrapt>=1.11.1 in /usr/local/lib/python3.6/dist-packages (from tensorflow) (1.12.1)\n",
            "Requirement already satisfied: setuptools in /usr/local/lib/python3.6/dist-packages (from protobuf>=3.9.2->tensorflow) (50.3.2)\n",
            "Requirement already satisfied: markdown>=2.6.8 in /usr/local/lib/python3.6/dist-packages (from tensorboard<3,>=2.3.0->tensorflow) (3.3.3)\n",
            "Requirement already satisfied: google-auth<2,>=1.6.3 in /usr/local/lib/python3.6/dist-packages (from tensorboard<3,>=2.3.0->tensorflow) (1.17.2)\n",
            "Requirement already satisfied: requests<3,>=2.21.0 in /usr/local/lib/python3.6/dist-packages (from tensorboard<3,>=2.3.0->tensorflow) (2.23.0)\n",
            "Requirement already satisfied: tensorboard-plugin-wit>=1.6.0 in /usr/local/lib/python3.6/dist-packages (from tensorboard<3,>=2.3.0->tensorflow) (1.7.0)\n",
            "Requirement already satisfied: google-auth-oauthlib<0.5,>=0.4.1 in /usr/local/lib/python3.6/dist-packages (from tensorboard<3,>=2.3.0->tensorflow) (0.4.2)\n",
            "Requirement already satisfied: werkzeug>=0.11.15 in /usr/local/lib/python3.6/dist-packages (from tensorboard<3,>=2.3.0->tensorflow) (1.0.1)\n",
            "Requirement already satisfied: importlib-metadata; python_version < \"3.8\" in /usr/local/lib/python3.6/dist-packages (from markdown>=2.6.8->tensorboard<3,>=2.3.0->tensorflow) (2.0.0)\n",
            "Requirement already satisfied: rsa<5,>=3.1.4; python_version >= \"3\" in /usr/local/lib/python3.6/dist-packages (from google-auth<2,>=1.6.3->tensorboard<3,>=2.3.0->tensorflow) (4.6)\n",
            "Requirement already satisfied: cachetools<5.0,>=2.0.0 in /usr/local/lib/python3.6/dist-packages (from google-auth<2,>=1.6.3->tensorboard<3,>=2.3.0->tensorflow) (4.1.1)\n",
            "Requirement already satisfied: pyasn1-modules>=0.2.1 in /usr/local/lib/python3.6/dist-packages (from google-auth<2,>=1.6.3->tensorboard<3,>=2.3.0->tensorflow) (0.2.8)\n",
            "Requirement already satisfied: chardet<4,>=3.0.2 in /usr/local/lib/python3.6/dist-packages (from requests<3,>=2.21.0->tensorboard<3,>=2.3.0->tensorflow) (3.0.4)\n",
            "Requirement already satisfied: idna<3,>=2.5 in /usr/local/lib/python3.6/dist-packages (from requests<3,>=2.21.0->tensorboard<3,>=2.3.0->tensorflow) (2.10)\n",
            "Requirement already satisfied: urllib3!=1.25.0,!=1.25.1,<1.26,>=1.21.1 in /usr/local/lib/python3.6/dist-packages (from requests<3,>=2.21.0->tensorboard<3,>=2.3.0->tensorflow) (1.24.3)\n",
            "Requirement already satisfied: certifi>=2017.4.17 in /usr/local/lib/python3.6/dist-packages (from requests<3,>=2.21.0->tensorboard<3,>=2.3.0->tensorflow) (2020.6.20)\n",
            "Requirement already satisfied: requests-oauthlib>=0.7.0 in /usr/local/lib/python3.6/dist-packages (from google-auth-oauthlib<0.5,>=0.4.1->tensorboard<3,>=2.3.0->tensorflow) (1.3.0)\n",
            "Requirement already satisfied: zipp>=0.5 in /usr/local/lib/python3.6/dist-packages (from importlib-metadata; python_version < \"3.8\"->markdown>=2.6.8->tensorboard<3,>=2.3.0->tensorflow) (3.4.0)\n",
            "Requirement already satisfied: pyasn1>=0.1.3 in /usr/local/lib/python3.6/dist-packages (from rsa<5,>=3.1.4; python_version >= \"3\"->google-auth<2,>=1.6.3->tensorboard<3,>=2.3.0->tensorflow) (0.4.8)\n",
            "Requirement already satisfied: oauthlib>=3.0.0 in /usr/local/lib/python3.6/dist-packages (from requests-oauthlib>=0.7.0->google-auth-oauthlib<0.5,>=0.4.1->tensorboard<3,>=2.3.0->tensorflow) (3.1.0)\n",
            "Requirement already satisfied: keras in /usr/local/lib/python3.6/dist-packages (2.4.3)\n",
            "Requirement already satisfied: h5py in /usr/local/lib/python3.6/dist-packages (from keras) (2.10.0)\n",
            "Requirement already satisfied: scipy>=0.14 in /usr/local/lib/python3.6/dist-packages (from keras) (1.4.1)\n",
            "Requirement already satisfied: numpy>=1.9.1 in /usr/local/lib/python3.6/dist-packages (from keras) (1.18.5)\n",
            "Requirement already satisfied: pyyaml in /usr/local/lib/python3.6/dist-packages (from keras) (3.13)\n",
            "Requirement already satisfied: six in /usr/local/lib/python3.6/dist-packages (from h5py->keras) (1.15.0)\n"
          ],
          "name": "stdout"
        }
      ]
    },
    {
      "cell_type": "markdown",
      "metadata": {
        "id": "cQzhT3BrDmOt"
      },
      "source": [
        "## Get Data"
      ]
    },
    {
      "cell_type": "code",
      "metadata": {
        "id": "5dM1BAd-i89P",
        "outputId": "c8b5af18-ab25-4097-8a38-0d121f9404cd",
        "colab": {
          "base_uri": "https://localhost:8080/"
        }
      },
      "source": [
        "from keras.datasets import mnist\n",
        "import numpy as np\n",
        "(train_image, train_label) ,(test_image, test_label) = mnist.load_data()"
      ],
      "execution_count": 2,
      "outputs": [
        {
          "output_type": "stream",
          "text": [
            "Downloading data from https://storage.googleapis.com/tensorflow/tf-keras-datasets/mnist.npz\n",
            "11493376/11490434 [==============================] - 0s 0us/step\n"
          ],
          "name": "stdout"
        }
      ]
    },
    {
      "cell_type": "markdown",
      "metadata": {
        "id": "DD-u82_GExLe"
      },
      "source": [
        "## ANN Architecture "
      ]
    },
    {
      "cell_type": "markdown",
      "metadata": {
        "id": "xLsgot58EsNq"
      },
      "source": [
        "### Preprocessing for ANN "
      ]
    },
    {
      "cell_type": "code",
      "metadata": {
        "id": "sbJG3pbdjuQb"
      },
      "source": [
        "from keras.utils import to_categorical\n",
        "x_train = train_image.reshape(60000, 784)\n",
        "x_test = test_image.reshape(10000,784)\n",
        "\n",
        "\n",
        "# coverts class vector to binary class matrix\n",
        "y_train = to_categorical(train_label)\n",
        "y_test = to_categorical(test_label)"
      ],
      "execution_count": 17,
      "outputs": []
    },
    {
      "cell_type": "markdown",
      "metadata": {
        "id": "pMcNQxKyE5f3"
      },
      "source": [
        "### Create ANN and run model"
      ]
    },
    {
      "cell_type": "code",
      "metadata": {
        "id": "-oZJjs3ep3WU",
        "outputId": "dfd67f46-3899-4aac-e858-0b4c60358e5f",
        "colab": {
          "base_uri": "https://localhost:8080/"
        }
      },
      "source": [
        "from keras import layers, models\n",
        "ANN_network = models.Sequential()\n",
        "ANN_network.add(layers.Dense(128, activation='sigmoid'))\n",
        "ANN_network.add(layers.Dense(10, activation='sigmoid'))\n",
        "ANN_network.compile(optimizer='sgd', loss='mse', metrics=['accuracy'])\n",
        "ANN_network.fit(x_train, y_train, epochs=20, batch_size=16)\n",
        "ANN_network.summary()"
      ],
      "execution_count": 18,
      "outputs": [
        {
          "output_type": "stream",
          "text": [
            "Epoch 1/20\n",
            "3750/3750 [==============================] - 6s 2ms/step - loss: 0.0743 - accuracy: 0.5131\n",
            "Epoch 2/20\n",
            "3750/3750 [==============================] - 6s 2ms/step - loss: 0.0460 - accuracy: 0.7803\n",
            "Epoch 3/20\n",
            "3750/3750 [==============================] - 6s 2ms/step - loss: 0.0363 - accuracy: 0.8335\n",
            "Epoch 4/20\n",
            "3750/3750 [==============================] - 6s 2ms/step - loss: 0.0312 - accuracy: 0.8576\n",
            "Epoch 5/20\n",
            "3750/3750 [==============================] - 6s 2ms/step - loss: 0.0279 - accuracy: 0.8711\n",
            "Epoch 6/20\n",
            "3750/3750 [==============================] - 6s 2ms/step - loss: 0.0255 - accuracy: 0.8814\n",
            "Epoch 7/20\n",
            "3750/3750 [==============================] - 6s 2ms/step - loss: 0.0236 - accuracy: 0.8893\n",
            "Epoch 8/20\n",
            "3750/3750 [==============================] - 6s 2ms/step - loss: 0.0223 - accuracy: 0.8937\n",
            "Epoch 9/20\n",
            "3750/3750 [==============================] - 6s 2ms/step - loss: 0.0211 - accuracy: 0.8984\n",
            "Epoch 10/20\n",
            "3750/3750 [==============================] - 6s 2ms/step - loss: 0.0200 - accuracy: 0.9026\n",
            "Epoch 11/20\n",
            "3750/3750 [==============================] - 6s 2ms/step - loss: 0.0192 - accuracy: 0.9055\n",
            "Epoch 12/20\n",
            "3750/3750 [==============================] - 6s 2ms/step - loss: 0.0185 - accuracy: 0.9080\n",
            "Epoch 13/20\n",
            "3750/3750 [==============================] - 6s 2ms/step - loss: 0.0178 - accuracy: 0.9111\n",
            "Epoch 14/20\n",
            "3750/3750 [==============================] - 6s 2ms/step - loss: 0.0173 - accuracy: 0.9138\n",
            "Epoch 15/20\n",
            "3750/3750 [==============================] - 6s 2ms/step - loss: 0.0168 - accuracy: 0.9154\n",
            "Epoch 16/20\n",
            "3750/3750 [==============================] - 6s 2ms/step - loss: 0.0163 - accuracy: 0.9176\n",
            "Epoch 17/20\n",
            "3750/3750 [==============================] - 6s 2ms/step - loss: 0.0159 - accuracy: 0.9196\n",
            "Epoch 18/20\n",
            "3750/3750 [==============================] - 6s 2ms/step - loss: 0.0155 - accuracy: 0.9210\n",
            "Epoch 19/20\n",
            "3750/3750 [==============================] - 6s 2ms/step - loss: 0.0152 - accuracy: 0.9225\n",
            "Epoch 20/20\n",
            "3750/3750 [==============================] - 6s 2ms/step - loss: 0.0148 - accuracy: 0.9244\n",
            "Model: \"sequential_10\"\n",
            "_________________________________________________________________\n",
            "Layer (type)                 Output Shape              Param #   \n",
            "=================================================================\n",
            "dense_18 (Dense)             (16, 128)                 100480    \n",
            "_________________________________________________________________\n",
            "dense_19 (Dense)             (16, 10)                  1290      \n",
            "=================================================================\n",
            "Total params: 101,770\n",
            "Trainable params: 101,770\n",
            "Non-trainable params: 0\n",
            "_________________________________________________________________\n"
          ],
          "name": "stdout"
        }
      ]
    },
    {
      "cell_type": "code",
      "metadata": {
        "id": "tAMt4Hda2FCD",
        "outputId": "584e445e-cded-476a-df18-9356a8f60d0f",
        "colab": {
          "base_uri": "https://localhost:8080/"
        }
      },
      "source": [
        "ANN_network.evaluate(x_test, y_test, batch_size=1)"
      ],
      "execution_count": 19,
      "outputs": [
        {
          "output_type": "stream",
          "text": [
            "10000/10000 [==============================] - 14s 1ms/step - loss: 0.0151 - accuracy: 0.9232\n"
          ],
          "name": "stdout"
        },
        {
          "output_type": "execute_result",
          "data": {
            "text/plain": [
              "[0.015082484111189842, 0.9232000112533569]"
            ]
          },
          "metadata": {
            "tags": []
          },
          "execution_count": 19
        }
      ]
    },
    {
      "cell_type": "markdown",
      "metadata": {
        "id": "zhXE_EqtFIDF"
      },
      "source": [
        "## CNN Architecture "
      ]
    },
    {
      "cell_type": "markdown",
      "metadata": {
        "id": "spPNlFV2FKZo"
      },
      "source": [
        "### Preprocessing"
      ]
    },
    {
      "cell_type": "code",
      "metadata": {
        "id": "eExv94Jj8Eo2"
      },
      "source": [
        "from keras.utils import to_categorical\n",
        "x_train = train_image.reshape(-1, 28, 28, 1)\n",
        "x_test = test_image.reshape(-1, 28, 28, 1)\n",
        "\n",
        "y_train = to_categorical(train_label)\n",
        "y_test = to_categorical(test_label)\n"
      ],
      "execution_count": 27,
      "outputs": []
    },
    {
      "cell_type": "markdown",
      "metadata": {
        "id": "BkICiMAoFMiW"
      },
      "source": [
        "### Create CNN and run model"
      ]
    },
    {
      "cell_type": "code",
      "metadata": {
        "id": "l73seM1P6uiP",
        "outputId": "7be06fc7-d63e-4663-ef96-86c9a86496e5",
        "colab": {
          "base_uri": "https://localhost:8080/"
        }
      },
      "source": [
        "CNN_network = models.Sequential()\n",
        "CNN_network.add(layers.Conv2D(128,kernel_size=(3,3),activation='relu',input_shape=(28,28,1)))\n",
        "CNN_network.add(layers.MaxPool2D())\n",
        "CNN_network.add(layers.Conv2D(64, kernel_size=(3,3),activation='relu', input_shape=(28,28,1))) \n",
        "CNN_network.add(layers.MaxPool2D())\n",
        "CNN_network.add(layers.Flatten())\n",
        "CNN_network.add(layers.Dense(10, activation='sigmoid'))\n",
        "CNN_network.compile(optimizer='sgd', loss='mse',metrics=['accuracy'])\n",
        "CNN_network.fit(x_train, y_train, epochs=20, batch_size=16)\n",
        "CNN_network.summary()"
      ],
      "execution_count": 28,
      "outputs": [
        {
          "output_type": "stream",
          "text": [
            "Epoch 1/20\n",
            "3750/3750 [==============================] - 9s 2ms/step - loss: 0.1125 - accuracy: 0.1596\n",
            "Epoch 2/20\n",
            "3750/3750 [==============================] - 8s 2ms/step - loss: 0.0597 - accuracy: 0.5057\n",
            "Epoch 3/20\n",
            "3750/3750 [==============================] - 8s 2ms/step - loss: 0.0279 - accuracy: 0.7821\n",
            "Epoch 4/20\n",
            "3750/3750 [==============================] - 8s 2ms/step - loss: 0.0183 - accuracy: 0.8591\n",
            "Epoch 5/20\n",
            "3750/3750 [==============================] - 8s 2ms/step - loss: 0.0167 - accuracy: 0.8656\n",
            "Epoch 6/20\n",
            "3750/3750 [==============================] - 8s 2ms/step - loss: 0.0158 - accuracy: 0.8695\n",
            "Epoch 7/20\n",
            "3750/3750 [==============================] - 8s 2ms/step - loss: 0.0152 - accuracy: 0.8716\n",
            "Epoch 8/20\n",
            "3750/3750 [==============================] - 8s 2ms/step - loss: 0.0147 - accuracy: 0.8736\n",
            "Epoch 9/20\n",
            "3750/3750 [==============================] - 8s 2ms/step - loss: 0.0144 - accuracy: 0.8751\n",
            "Epoch 10/20\n",
            "3750/3750 [==============================] - 8s 2ms/step - loss: 0.0142 - accuracy: 0.8756\n",
            "Epoch 11/20\n",
            "3750/3750 [==============================] - 8s 2ms/step - loss: 0.0140 - accuracy: 0.8764\n",
            "Epoch 12/20\n",
            "3750/3750 [==============================] - 8s 2ms/step - loss: 0.0137 - accuracy: 0.8776\n",
            "Epoch 13/20\n",
            "3750/3750 [==============================] - 8s 2ms/step - loss: 0.0136 - accuracy: 0.8777\n",
            "Epoch 14/20\n",
            "3750/3750 [==============================] - 8s 2ms/step - loss: 0.0135 - accuracy: 0.8788\n",
            "Epoch 15/20\n",
            "3750/3750 [==============================] - 8s 2ms/step - loss: 0.0133 - accuracy: 0.8790\n",
            "Epoch 16/20\n",
            "3750/3750 [==============================] - 8s 2ms/step - loss: 0.0131 - accuracy: 0.8794\n",
            "Epoch 17/20\n",
            "3750/3750 [==============================] - 8s 2ms/step - loss: 0.0130 - accuracy: 0.8799\n",
            "Epoch 18/20\n",
            "3750/3750 [==============================] - 8s 2ms/step - loss: 0.0130 - accuracy: 0.8802\n",
            "Epoch 19/20\n",
            "3750/3750 [==============================] - 8s 2ms/step - loss: 0.0129 - accuracy: 0.8802\n",
            "Epoch 20/20\n",
            "3750/3750 [==============================] - 8s 2ms/step - loss: 0.0128 - accuracy: 0.8805\n",
            "Model: \"sequential_15\"\n",
            "_________________________________________________________________\n",
            "Layer (type)                 Output Shape              Param #   \n",
            "=================================================================\n",
            "conv2d_37 (Conv2D)           (None, 26, 26, 128)       1280      \n",
            "_________________________________________________________________\n",
            "max_pooling2d_37 (MaxPooling (None, 13, 13, 128)       0         \n",
            "_________________________________________________________________\n",
            "conv2d_38 (Conv2D)           (None, 11, 11, 64)        73792     \n",
            "_________________________________________________________________\n",
            "max_pooling2d_38 (MaxPooling (None, 5, 5, 64)          0         \n",
            "_________________________________________________________________\n",
            "flatten_13 (Flatten)         (None, 1600)              0         \n",
            "_________________________________________________________________\n",
            "dense_26 (Dense)             (None, 10)                16010     \n",
            "=================================================================\n",
            "Total params: 91,082\n",
            "Trainable params: 91,082\n",
            "Non-trainable params: 0\n",
            "_________________________________________________________________\n"
          ],
          "name": "stdout"
        }
      ]
    },
    {
      "cell_type": "code",
      "metadata": {
        "id": "4k5RcKa-CK1L",
        "outputId": "e7d5c4c5-45e5-47ce-f65f-5feb483b00df",
        "colab": {
          "base_uri": "https://localhost:8080/"
        }
      },
      "source": [
        "CNN_network.evaluate(x_test, y_test, batch_size=1)\n",
        "CNN_network.summary()"
      ],
      "execution_count": 29,
      "outputs": [
        {
          "output_type": "stream",
          "text": [
            "10000/10000 [==============================] - 16s 2ms/step - loss: 0.0141 - accuracy: 0.8754\n",
            "Model: \"sequential_15\"\n",
            "_________________________________________________________________\n",
            "Layer (type)                 Output Shape              Param #   \n",
            "=================================================================\n",
            "conv2d_37 (Conv2D)           (None, 26, 26, 128)       1280      \n",
            "_________________________________________________________________\n",
            "max_pooling2d_37 (MaxPooling (None, 13, 13, 128)       0         \n",
            "_________________________________________________________________\n",
            "conv2d_38 (Conv2D)           (None, 11, 11, 64)        73792     \n",
            "_________________________________________________________________\n",
            "max_pooling2d_38 (MaxPooling (None, 5, 5, 64)          0         \n",
            "_________________________________________________________________\n",
            "flatten_13 (Flatten)         (None, 1600)              0         \n",
            "_________________________________________________________________\n",
            "dense_26 (Dense)             (None, 10)                16010     \n",
            "=================================================================\n",
            "Total params: 91,082\n",
            "Trainable params: 91,082\n",
            "Non-trainable params: 0\n",
            "_________________________________________________________________\n"
          ],
          "name": "stdout"
        }
      ]
    },
    {
      "cell_type": "markdown",
      "metadata": {
        "id": "3P11cxHLFQ8S"
      },
      "source": [
        "## Custom Architecture "
      ]
    },
    {
      "cell_type": "markdown",
      "metadata": {
        "id": "F-1JHr40FTg4"
      },
      "source": [
        "### Preprocessing"
      ]
    },
    {
      "cell_type": "code",
      "metadata": {
        "id": "JVpMrg9eXxxW"
      },
      "source": [
        "from keras.utils import to_categorical\n",
        "x_train = train_image.reshape(-1, 28, 28, 1)\n",
        "x_test = test_image.reshape(-1, 28, 28, 1)\n",
        "\n",
        "y_train = to_categorical(train_label)\n",
        "y_test = to_categorical(test_label)\n"
      ],
      "execution_count": 24,
      "outputs": []
    },
    {
      "cell_type": "markdown",
      "metadata": {
        "id": "u6iZ5e7vFVb9"
      },
      "source": [
        "### Create custom architecture and run model "
      ]
    },
    {
      "cell_type": "code",
      "metadata": {
        "id": "A6qVnTr8Ontr",
        "outputId": "2bf2252b-418b-4de3-ed93-a2bbda3963d3",
        "colab": {
          "base_uri": "https://localhost:8080/"
        }
      },
      "source": [
        "from keras import layers, models\n",
        "\n",
        "# custom architecture\n",
        "CNN_network = models.Sequential()\n",
        "CNN_network.add(layers.Conv2D(128,kernel_size=(3,3),activation='relu',input_shape=(28,28,1)))\n",
        "CNN_network.add(layers.MaxPool2D())\n",
        "CNN_network.add(layers.Conv2D(64, kernel_size=(3,3),activation='relu', input_shape=(28,28,1))) \n",
        "CNN_network.add(layers.MaxPool2D())\n",
        "CNN_network.add(layers.Conv2D(64, kernel_size=(3,3),activation='relu', input_shape=(28,28,1))) \n",
        "CNN_network.add(layers.MaxPool2D())\n",
        "CNN_network.add(layers.Flatten())\n",
        "CNN_network.add(layers.Dense(10, activation='sigmoid'))\n",
        "CNN_network.add(layers.Dense(10, activation='sigmoid'))\n",
        "CNN_network.compile(optimizer='sgd', loss='mse',metrics=['accuracy'])\n",
        "CNN_network.fit(x_train, y_train, epochs=20, batch_size=16)\n",
        "CNN_network.summary()"
      ],
      "execution_count": 26,
      "outputs": [
        {
          "output_type": "stream",
          "text": [
            "Epoch 1/20\n",
            "3750/3750 [==============================] - 9s 2ms/step - loss: 0.1345 - accuracy: 0.1844\n",
            "Epoch 2/20\n",
            "3750/3750 [==============================] - 9s 2ms/step - loss: 0.0870 - accuracy: 0.4293\n",
            "Epoch 3/20\n",
            "3750/3750 [==============================] - 9s 2ms/step - loss: 0.0777 - accuracy: 0.6570\n",
            "Epoch 4/20\n",
            "3750/3750 [==============================] - 9s 2ms/step - loss: 0.0741 - accuracy: 0.7019\n",
            "Epoch 5/20\n",
            "3750/3750 [==============================] - 9s 2ms/step - loss: 0.0714 - accuracy: 0.7209\n",
            "Epoch 6/20\n",
            "3750/3750 [==============================] - 9s 2ms/step - loss: 0.0690 - accuracy: 0.7282\n",
            "Epoch 7/20\n",
            "3750/3750 [==============================] - 9s 2ms/step - loss: 0.0668 - accuracy: 0.7291\n",
            "Epoch 8/20\n",
            "3750/3750 [==============================] - 9s 2ms/step - loss: 0.0646 - accuracy: 0.7378\n",
            "Epoch 9/20\n",
            "3750/3750 [==============================] - 9s 2ms/step - loss: 0.0600 - accuracy: 0.7465\n",
            "Epoch 10/20\n",
            "3750/3750 [==============================] - 9s 2ms/step - loss: 0.0571 - accuracy: 0.8165\n",
            "Epoch 11/20\n",
            "3750/3750 [==============================] - 9s 2ms/step - loss: 0.0546 - accuracy: 0.8558\n",
            "Epoch 12/20\n",
            "3750/3750 [==============================] - 9s 2ms/step - loss: 0.0522 - accuracy: 0.9200\n",
            "Epoch 13/20\n",
            "3750/3750 [==============================] - 9s 2ms/step - loss: 0.0500 - accuracy: 0.9290\n",
            "Epoch 14/20\n",
            "3750/3750 [==============================] - 9s 2ms/step - loss: 0.0480 - accuracy: 0.9345\n",
            "Epoch 15/20\n",
            "3750/3750 [==============================] - 9s 2ms/step - loss: 0.0461 - accuracy: 0.9387\n",
            "Epoch 16/20\n",
            "3750/3750 [==============================] - 9s 2ms/step - loss: 0.0442 - accuracy: 0.9433\n",
            "Epoch 17/20\n",
            "3750/3750 [==============================] - 9s 2ms/step - loss: 0.0425 - accuracy: 0.9457\n",
            "Epoch 18/20\n",
            "3750/3750 [==============================] - 9s 2ms/step - loss: 0.0409 - accuracy: 0.9487\n",
            "Epoch 19/20\n",
            "3750/3750 [==============================] - 9s 2ms/step - loss: 0.0393 - accuracy: 0.9512\n",
            "Epoch 20/20\n",
            "3750/3750 [==============================] - 9s 2ms/step - loss: 0.0378 - accuracy: 0.9548\n",
            "Model: \"sequential_14\"\n",
            "_________________________________________________________________\n",
            "Layer (type)                 Output Shape              Param #   \n",
            "=================================================================\n",
            "conv2d_34 (Conv2D)           (None, 26, 26, 128)       1280      \n",
            "_________________________________________________________________\n",
            "max_pooling2d_34 (MaxPooling (None, 13, 13, 128)       0         \n",
            "_________________________________________________________________\n",
            "conv2d_35 (Conv2D)           (None, 11, 11, 64)        73792     \n",
            "_________________________________________________________________\n",
            "max_pooling2d_35 (MaxPooling (None, 5, 5, 64)          0         \n",
            "_________________________________________________________________\n",
            "conv2d_36 (Conv2D)           (None, 3, 3, 64)          36928     \n",
            "_________________________________________________________________\n",
            "max_pooling2d_36 (MaxPooling (None, 1, 1, 64)          0         \n",
            "_________________________________________________________________\n",
            "flatten_12 (Flatten)         (None, 64)                0         \n",
            "_________________________________________________________________\n",
            "dense_24 (Dense)             (None, 10)                650       \n",
            "_________________________________________________________________\n",
            "dense_25 (Dense)             (None, 10)                110       \n",
            "=================================================================\n",
            "Total params: 112,760\n",
            "Trainable params: 112,760\n",
            "Non-trainable params: 0\n",
            "_________________________________________________________________\n"
          ],
          "name": "stdout"
        }
      ]
    },
    {
      "cell_type": "code",
      "metadata": {
        "id": "EgGCC_CseeMz",
        "outputId": "aca08910-940a-4b8f-8adc-69199fd83843",
        "colab": {
          "base_uri": "https://localhost:8080/"
        }
      },
      "source": [
        "CNN_network.evaluate(x_test, y_test, batch_size=1)\n",
        "CNN_network.summary()"
      ],
      "execution_count": 15,
      "outputs": [
        {
          "output_type": "stream",
          "text": [
            "10000/10000 [==============================] - 15s 2ms/step - loss: 0.0306 - accuracy: 0.9610\n",
            "Model: \"sequential_8\"\n",
            "_________________________________________________________________\n",
            "Layer (type)                 Output Shape              Param #   \n",
            "=================================================================\n",
            "conv2d_24 (Conv2D)           (None, 26, 26, 128)       1280      \n",
            "_________________________________________________________________\n",
            "max_pooling2d_24 (MaxPooling (None, 13, 13, 128)       0         \n",
            "_________________________________________________________________\n",
            "conv2d_25 (Conv2D)           (None, 11, 11, 64)        73792     \n",
            "_________________________________________________________________\n",
            "max_pooling2d_25 (MaxPooling (None, 5, 5, 64)          0         \n",
            "_________________________________________________________________\n",
            "conv2d_26 (Conv2D)           (None, 3, 3, 64)          36928     \n",
            "_________________________________________________________________\n",
            "max_pooling2d_26 (MaxPooling (None, 1, 1, 64)          0         \n",
            "_________________________________________________________________\n",
            "flatten_8 (Flatten)          (None, 64)                0         \n",
            "_________________________________________________________________\n",
            "dense_14 (Dense)             (None, 10)                650       \n",
            "_________________________________________________________________\n",
            "dense_15 (Dense)             (None, 10)                110       \n",
            "=================================================================\n",
            "Total params: 112,760\n",
            "Trainable params: 112,760\n",
            "Non-trainable params: 0\n",
            "_________________________________________________________________\n"
          ],
          "name": "stdout"
        }
      ]
    }
  ]
}